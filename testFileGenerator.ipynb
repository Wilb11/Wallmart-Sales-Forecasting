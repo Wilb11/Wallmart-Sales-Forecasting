{
 "cells": [
  {
   "cell_type": "code",
   "execution_count": 3,
   "id": "86ec0096-69f0-4ad8-ab4e-b49293ce8fcf",
   "metadata": {},
   "outputs": [],
   "source": [
    "%matplotlib inline\n",
    "import pandas as pd\n",
    "import numpy as np\n",
    "import matplotlib.pyplot as plt\n",
    "import statsmodels.api as sns\n",
    "import seaborn as sns"
   ]
  },
  {
   "cell_type": "code",
   "execution_count": 4,
   "id": "094905d4-2d96-4a2d-91ee-e7929fbf9082",
   "metadata": {},
   "outputs": [],
   "source": [
    "# Store file generator with type of type(Item being sold)"
   ]
  },
  {
   "cell_type": "code",
   "execution_count": 6,
   "id": "e9a389b5-964c-4f23-82ef-7e12945ae80e",
   "metadata": {},
   "outputs": [],
   "source": [
    "# Select relevant columns and create an empty 'Weekly_Sales' column\n",
    "df_sub = pd.read_csv('/Users/wilbertlimson/Desktop/MacBOOk/OM441/walmart_cleaned.csv')\n",
    "store_columns = ['Store','Dept', 'Size','Type']\n",
    "df_sub = df_sub[store_columns]\n",
    "\n",
    "# Save the modified DataFrame to a new CSV file\n",
    "df_sub.to_csv('/Users/wilbertlimson/Desktop/MacBOOk/OM441/store.csv', index=False)"
   ]
  },
  {
   "cell_type": "code",
   "execution_count": 1,
   "id": "fe8971d0-be26-4485-b12c-ef90647ab8df",
   "metadata": {},
   "outputs": [],
   "source": [
    "### Submission file generator with prediction"
   ]
  },
  {
   "cell_type": "code",
   "execution_count": null,
   "id": "094b52fc-ef35-4843-966d-bafed69dcf71",
   "metadata": {},
   "outputs": [],
   "source": [
    "df = pd.read_csv('/Users/wilbertlimson/Desktop/MacBOOk/OM441/walmart_cleaned.csv')"
   ]
  },
  {
   "cell_type": "code",
   "execution_count": 25,
   "id": "454503a0-8362-4599-979d-fcbcb165d640",
   "metadata": {},
   "outputs": [],
   "source": [
    "# Ensure 'Date' is a datetime index\n",
    "df['Date'] = pd.to_datetime(df['Date'])\n",
    "df['Date'] = pd.to_datetime(df['Date'])  # Convert the 'Date' column to datetime type\n",
    "\n",
    "# Note: .week has been deprecated in favor of .isocalendar().week in newer versions of pandas\n",
    "df['Week'] = df['Date'].dt.isocalendar().week\n",
    "df['Year'] = df['Date'].dt.year"
   ]
  },
  {
   "cell_type": "code",
   "execution_count": 26,
   "id": "71f62fac-bc49-4702-9c00-5ccd70b8eca1",
   "metadata": {},
   "outputs": [],
   "source": [
    "X = df[['Store','Dept','IsHoliday', 'Size','Week','Type','Year']] #these are the relevant features\n",
    "Y = df['Weekly_Sales']  # your target column"
   ]
  },
  {
   "cell_type": "code",
   "execution_count": 27,
   "id": "326b38cc-d122-4f2d-b5e5-d542ca3b8abf",
   "metadata": {},
   "outputs": [],
   "source": [
    "# Based on finding the best store size and department - Hard coded\n",
    "stores_to_focus = [1, 2, 4, 6, 10, 13, 14, 20, 27]\n",
    "items_to_focus = [2, 38, 40, 65, 72, 90, 92, 95]\n",
    "\n",
    "# Extract sizes and types from the specified stores\n",
    "sizes_types = df[df['Store'].isin(stores_to_focus)][['Store', 'Size', 'Type']].drop_duplicates().sample(frac=1, replace=True).reset_index(drop=True)\n",
    "\n",
    "# Replace 'Size' and 'Type' for other stores with a random selection from stores_to_focus\n",
    "df.loc[~df['Store'].isin(stores_to_focus), ['Size', 'Type']] = df[~df['Store'].isin(stores_to_focus)].apply(\n",
    "    lambda x: sizes_types.loc[sizes_types.index[0], ['Size', 'Type']],\n",
    "    axis=1\n",
    ")\n",
    "\n",
    "# Randomly replace 'Dept' for all rows\n",
    "df['Dept'] = np.random.choice(items_to_focus, size=len(df))\n",
    "\n",
    "# Select relevant columns and create an empty 'Weekly_Sales' column\n",
    "relevant_columns = ['Store', 'Dept', 'IsHoliday', 'Size', 'Week', 'Type', 'Year']\n",
    "df = df[relevant_columns]\n",
    "df['Weekly_Sales'] = np.nan  # Creating an empty column for Weekly_Sales\n",
    "\n",
    "# Save the modified DataFrame to a new CSV file\n",
    "df.to_csv('/Users/wilbertlimson/Desktop/MacBOOk/OM441/testWalmartProject.csv', index=False)"
   ]
  },
  {
   "cell_type": "code",
   "execution_count": 28,
   "id": "d6051b7e-e707-4c3d-8271-39adcf18cd2d",
   "metadata": {},
   "outputs": [
    {
     "data": {
      "text/plain": [
       "array([ 1,  2,  3,  4,  5,  6,  7,  8,  9, 10, 11, 12, 13, 14, 15, 16, 17,\n",
       "       18, 19, 20, 21, 22, 23, 24, 25, 26, 27, 28, 29, 30, 31, 32, 33, 34,\n",
       "       35, 36, 37, 38, 39, 40, 41, 42, 43, 44, 45])"
      ]
     },
     "execution_count": 28,
     "metadata": {},
     "output_type": "execute_result"
    }
   ],
   "source": [
    "df['Store'].unique()"
   ]
  },
  {
   "cell_type": "code",
   "execution_count": null,
   "id": "9578bbeb-6f0e-4424-a135-92efb86808d4",
   "metadata": {},
   "outputs": [],
   "source": []
  }
 ],
 "metadata": {
  "kernelspec": {
   "display_name": "Python 3 (ipykernel)",
   "language": "python",
   "name": "python3"
  },
  "language_info": {
   "codemirror_mode": {
    "name": "ipython",
    "version": 3
   },
   "file_extension": ".py",
   "mimetype": "text/x-python",
   "name": "python",
   "nbconvert_exporter": "python",
   "pygments_lexer": "ipython3",
   "version": "3.9.18"
  }
 },
 "nbformat": 4,
 "nbformat_minor": 5
}
